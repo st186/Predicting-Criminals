{
 "cells": [
  {
   "cell_type": "markdown",
   "metadata": {},
   "source": [
    "**AUTHOR : SUBHAM TEWARI**\n",
    "\n",
    "ALL COPYRIGHTS RESERVED"
   ]
  },
  {
   "cell_type": "markdown",
   "metadata": {},
   "source": [
    "## Criminal Detection using Machine Learning"
   ]
  },
  {
   "cell_type": "markdown",
   "metadata": {},
   "source": [
    "Importing all the important machine learning libraries"
   ]
  },
  {
   "cell_type": "code",
   "execution_count": 34,
   "metadata": {
    "collapsed": true
   },
   "outputs": [],
   "source": [
    "import pandas as pd\n",
    "from sklearn.metrics import accuracy_score\n",
    "from sklearn.model_selection import train_test_split\n",
    "from sklearn.tree import DecisionTreeClassifier\n",
    "import matplotlib.pyplot as plt"
   ]
  },
  {
   "cell_type": "code",
   "execution_count": 50,
   "metadata": {
    "collapsed": false
   },
   "outputs": [],
   "source": [
    "data = pd.read_csv('./criminals/criminal_train.csv')"
   ]
  },
  {
   "cell_type": "markdown",
   "metadata": {},
   "source": [
    "Now we will look at the correlation of each feature with the target feature to find out whether they are related or not"
   ]
  },
  {
   "cell_type": "code",
   "execution_count": 55,
   "metadata": {
    "collapsed": false
   },
   "outputs": [
    {
     "data": {
      "text/plain": [
       "PERID       -0.000396\n",
       "IFATHER     -0.049935\n",
       "NRCH17_2    -0.091212\n",
       "IRHHSIZ2    -0.068281\n",
       "IIHHSIZ2     0.009238\n",
       "IRKI17_2    -0.039168\n",
       "IIKI17_2     0.005860\n",
       "IRHH65_2     0.112589\n",
       "IIHH65_2     0.004112\n",
       "PRXRETRY     0.004966\n",
       "PRXYDATA    -0.038797\n",
       "MEDICARE     0.031178\n",
       "CAIDCHIP     0.052671\n",
       "CHAMPUS      0.040844\n",
       "PRVHLTIN     0.089960\n",
       "GRPHLTIN    -0.194188\n",
       "HLTINNOS     0.106967\n",
       "HLCNOTYR    -0.069716\n",
       "HLCNOTMO     0.017954\n",
       "HLCLAST      0.091338\n",
       "HLLOSRSN     0.081006\n",
       "HLNVCOST     0.038380\n",
       "HLNVOFFR     0.038379\n",
       "HLNVREF      0.038382\n",
       "HLNVNEED     0.038378\n",
       "HLNVSOR      0.038379\n",
       "IRMCDCHP     0.081704\n",
       "IIMCDCHP     0.048222\n",
       "IRMEDICR    -0.144131\n",
       "IIMEDICR     0.037516\n",
       "               ...   \n",
       "OTHINS      -0.075629\n",
       "CELLNOTCL    0.007857\n",
       "CELLWRKNG    0.017935\n",
       "IRFAMSOC    -0.110676\n",
       "IIFAMSOC     0.026832\n",
       "IRFAMSSI    -0.002666\n",
       "IIFAMSSI     0.038064\n",
       "IRFSTAMP     0.009004\n",
       "IIFSTAMP     0.024554\n",
       "IRFAMPMT     0.004810\n",
       "IIFAMPMT     0.034474\n",
       "IRFAMSVC    -0.000553\n",
       "IIFAMSVC     0.035574\n",
       "IRWELMOS     0.001917\n",
       "IIWELMOS    -0.007639\n",
       "IRPINC3     -0.128830\n",
       "IRFAMIN3    -0.194889\n",
       "IIPINC3      0.029628\n",
       "IIFAMIN3     0.037193\n",
       "GOVTPROG     0.001719\n",
       "POVERTY3    -0.148304\n",
       "TOOLONG      0.007220\n",
       "TROUBUND     0.007315\n",
       "PDEN10       0.033048\n",
       "COUTYP2      0.031587\n",
       "MAIIN102     0.002309\n",
       "AIIND102     0.001484\n",
       "ANALWT_C     0.020863\n",
       "VESTR        0.002355\n",
       "VEREP       -0.007738\n",
       "Name: Criminal, Length: 71, dtype: float64"
      ]
     },
     "execution_count": 55,
     "metadata": {},
     "output_type": "execute_result"
    }
   ],
   "source": [
    "data[data.columns[0:]].corr()['Criminal'][:-1]"
   ]
  },
  {
   "cell_type": "markdown",
   "metadata": {},
   "source": [
    "Choosing the right features for the classification"
   ]
  },
  {
   "cell_type": "code",
   "execution_count": 56,
   "metadata": {
    "collapsed": false
   },
   "outputs": [],
   "source": [
    "criminal_features=['IFATHER', 'NRCH17_2', 'IRHHSIZ2', 'IRKI17_2',\n",
    "        'IRHH65_2',   'PRXYDATA', 'MEDICARE',\n",
    "       'CAIDCHIP', 'CHAMPUS', 'PRVHLTIN', 'GRPHLTIN', 'HLTINNOS', 'HLCNOTYR',\n",
    "       'HLCNOTMO', 'HLCLAST', 'HLLOSRSN', 'HLNVCOST', 'HLNVOFFR', 'HLNVREF',\n",
    "       'HLNVNEED', 'HLNVSOR', 'IRMCDCHP', 'IIMCDCHP', 'IRMEDICR', 'IIMEDICR',\n",
    "       'IRCHMPUS', 'IICHMPUS', 'IRPRVHLT', 'IIPRVHLT', 'IROTHHLT', 'IIOTHHLT',\n",
    "       'HLCALLFG', 'HLCALL99', 'ANYHLTI2', 'IRINSUR4', 'IIINSUR4', 'OTHINS',\n",
    "        'CELLWRKNG','IIFAMSOC', \n",
    "       'IIFAMSSI',  'IIFSTAMP',  'IIFAMPMT', \n",
    "       'IIFAMSVC',  'IRPINC3', 'IRFAMIN3', 'IIPINC3',\n",
    "       'IIFAMIN3', 'POVERTY3',  'PDEN10',\n",
    "       'COUTYP2',  'ANALWT_C']"
   ]
  },
  {
   "cell_type": "code",
   "execution_count": 57,
   "metadata": {
    "collapsed": false
   },
   "outputs": [],
   "source": [
    "X_train = data[criminal_features].copy() #Creating the X_training data for training the classifier"
   ]
  },
  {
   "cell_type": "code",
   "execution_count": 58,
   "metadata": {
    "collapsed": true
   },
   "outputs": [],
   "source": [
    "y_train=data[['Criminal']] #Creating the y_train data for training the classifier "
   ]
  },
  {
   "cell_type": "code",
   "execution_count": 59,
   "metadata": {
    "collapsed": false
   },
   "outputs": [
    {
     "data": {
      "text/plain": [
       "DecisionTreeClassifier(class_weight=None, criterion='gini', max_depth=None,\n",
       "            max_features=None, max_leaf_nodes=10,\n",
       "            min_impurity_decrease=0.0, min_impurity_split=None,\n",
       "            min_samples_leaf=1, min_samples_split=2,\n",
       "            min_weight_fraction_leaf=0.0, presort=False, random_state=0,\n",
       "            splitter='best')"
      ]
     },
     "execution_count": 59,
     "metadata": {},
     "output_type": "execute_result"
    }
   ],
   "source": [
    "#Classifying the dataset using the Decision Tree classifier and taking max_leaf_node to be 10\n",
    "criminal_classifier = DecisionTreeClassifier(max_leaf_nodes=10, random_state=0)\n",
    "criminal_classifier.fit(X_train, y_train)"
   ]
  },
  {
   "cell_type": "code",
   "execution_count": 60,
   "metadata": {
    "collapsed": true
   },
   "outputs": [],
   "source": [
    "data1 = pd.read_csv('./criminals/criminal_test.csv') #Test data for testing the classifier"
   ]
  },
  {
   "cell_type": "code",
   "execution_count": 61,
   "metadata": {
    "collapsed": true
   },
   "outputs": [],
   "source": [
    "X_test = data1[criminal_features].copy() #X_test"
   ]
  },
  {
   "cell_type": "code",
   "execution_count": 62,
   "metadata": {
    "collapsed": false
   },
   "outputs": [],
   "source": [
    "predictions = criminal_classifier.predict(X_test) #Predicting the outcomes"
   ]
  },
  {
   "cell_type": "code",
   "execution_count": 64,
   "metadata": {
    "collapsed": false
   },
   "outputs": [],
   "source": [
    "my_submission = pd.DataFrame({'PERID': data1.PERID, 'Criminal': predictions})\n",
    "# you could use any filename. We choose submission here\n",
    "new_submission=my_submission[['PERID','Criminal']]\n",
    "new_submission.to_csv('submission.csv', index=False)"
   ]
  }
 ],
 "metadata": {
  "kernelspec": {
   "display_name": "Python 3",
   "language": "python",
   "name": "python3"
  },
  "language_info": {
   "codemirror_mode": {
    "name": "ipython",
    "version": 3
   },
   "file_extension": ".py",
   "mimetype": "text/x-python",
   "name": "python",
   "nbconvert_exporter": "python",
   "pygments_lexer": "ipython3",
   "version": "3.5.3"
  }
 },
 "nbformat": 4,
 "nbformat_minor": 2
}
